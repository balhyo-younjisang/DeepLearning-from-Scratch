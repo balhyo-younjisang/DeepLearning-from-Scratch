{
  "nbformat": 4,
  "nbformat_minor": 0,
  "metadata": {
    "colab": {
      "provenance": [],
      "toc_visible": true,
      "authorship_tag": "ABX9TyNVS28DCvNDhIHF1+gGPBGk",
      "include_colab_link": true
    },
    "kernelspec": {
      "name": "python3",
      "display_name": "Python 3"
    },
    "language_info": {
      "name": "python"
    }
  },
  "cells": [
    {
      "cell_type": "markdown",
      "metadata": {
        "id": "view-in-github",
        "colab_type": "text"
      },
      "source": [
        "<a href=\"https://colab.research.google.com/github/balhyo-younjisang/DeepLearning-from-Scratch/blob/main/Chapter_2_%ED%8D%BC%EC%85%89%ED%8A%B8%EB%A1%A0.ipynb\" target=\"_parent\"><img src=\"https://colab.research.google.com/assets/colab-badge.svg\" alt=\"Open In Colab\"/></a>"
      ]
    },
    {
      "cell_type": "markdown",
      "source": [
        "# CHAPTER 2. 퍼셉트론\n",
        "\n",
        "이번 장에선 **퍼셉트론 (perceptron)** 알고리즘을 설명한다.   \n",
        "퍼셉트론은 프랑크 로젠블라트가 1957년에 고안한 알고리즘이다."
      ],
      "metadata": {
        "id": "nRse-SlZGzQp"
      }
    },
    {
      "cell_type": "markdown",
      "source": [
        "## 2.1 퍼셉트론이란?\n",
        "퍼셉트론은 다수의 신호를 입력으로 받아 하나의 신호를 출력한다.   \n",
        "여기서 말하는 **신호**란 전류가 강물처럼 **흐름**이 있는 것을 상상하면 좋다. 전류가 전선을 타고 흐르는 전자를 내보내듯, 퍼셉트론 신호도 흐름을 만들고 정보를 앞으로 전달한다.    \n",
        "다만, 실제 전류와 달리 퍼셉트론 신호를 '흐른다/안 흐른다(1이나 0)'의 두 가지 값을 가질 수 있다.\n",
        "\n",
        "[ 입력이 2개인 퍼셉트론 ]\n",
        "![그림 2-1](https://blog.kakaocdn.net/dn/GrSdp/btqyt6tY8Dl/kwVynuK95LJEKufPg93fE0/img.png)\n",
        "\n",
        "입력으로 2개의 신호를 받은 퍼셉트론의 예다. x1과 x2는 입력 신호, y는 출력 신호, w1과 w2는 가중치를 뜻한다.   \n",
        "그림의 원을 **뉴런** 혹은 **노드** 라고 부른다.      \n",
        "\n",
        "입력 신호가 뉴런에 보내질 때는 각각 고유한 **가중치**가 곱해진다. (w1x1, w2x2)      \n",
        "\n",
        "뉴런에서 보내온 신호의 총합이 정해진 한계를 넘어설 때만 1을 출력한다. ( 이를 '뉴런을 활성화한다'라 표현하기도 한다 )   \n",
        "그 한계를 **임계값**이라 하며, θ 기호 ( theta, 세타 ) 로 나타낸다.\n",
        "\n",
        "퍼셉트론의 동작 원리를 수식으로 나타내면 아래와 같다.\n",
        "  \n",
        "[ 수식 2-1 ]\n",
        "![](https://img1.daumcdn.net/thumb/R1280x0/?scode=mtistory2&fname=https%3A%2F%2Fblog.kakaocdn.net%2Fdn%2Fbh6jMp%2Fbtrsjaay8uF%2FwWfbf4wYroGBjkAvhaxf6K%2Fimg.png)\n",
        "\n",
        "퍼셉트론은 복수의 입력 신호 각각에 고유한 가중치를 부여한다. 가중치는 각 신호가 결과에 주는 영향력을 조절하는 요소로 작용한다.   \n",
        "즉, 가중치가 클수록 해당 신호가 그만큼 더 중요함을 뜻한다.\n",
        "\n",
        "> 가중치는 전류에서 말하는 **저항**에 해당한다.   \n",
        "> 저항은 전류의 흐름을 억제하는 매개변수로, 저항이 낮을수록 큰 전류가 흐른다. 한편 퍼셉트론의 가중치는 그 값이 클수록 강한 신호를 흘려보낸다. 이처럼 서로 작용하는 방향은 반대지만, 신호가 얼마나 잘 ( 혹은 어렵게 ) 흐르는가를 통제한다는 점에서 저항과 가중치는 같은 기능을 한다."
      ],
      "metadata": {
        "id": "ohgCZLExWJSc"
      }
    },
    {
      "cell_type": "markdown",
      "source": [
        "## 2.2 단순한 논리 회로\n",
        "\n",
        "### 2.2.1 AND 게이트\n",
        "AND 게이트는 입력이 둘이고 출력은 하나이다.   \n",
        "아래 테이블은 AND 게이트의 진리표로, 두 입력이 모두 1일 때만 1을 출력하고, 그 외에는 0을 출력한다.\n",
        "\n",
        "[ AND 게이트 진리표 ]\n",
        "![](https://user-images.githubusercontent.com/44635266/75086457-b25b0480-5577-11ea-92de-094f7310c351.png)\n",
        "\n",
        "> 입력 신호와 출력 신호의 대응 표를 **진리표**라고 한다.\n",
        "\n",
        "이 AND 게이트를 퍼셉트론으로 표현하려면 진리표대로 작동하는 w1, w2, θ값을 정해야 한다.\n",
        "\n",
        "매개변수의 조합은 무한히 많다. 가령 (w1, w2, θ)가 (0.5, 0.5, 0.7) 일 때, (0.5, 0.5, 0.8)이나 (1.0, 1.0, 1.0) 일 때 모두 AND 게이트의 조건을 만족한다.\n",
        "매개변수를 이렇게 설정하면 x1과 x2 모두가 1일 때만 가중 신호의 총합이 주어진 임계값을 웃돌게 된다.   \n",
        "\n",
        "### 2.2.2 NAND 게이트와 OR 게이트\n",
        "\n",
        "NAND는 Not AND를 의미하며, 그 동작은 AND 게이트의 출력을 뒤집은 것이 된다.   \n",
        "진리표로 나타내면 x1과 x2가 모두 1일 때만 0을 출력하고, 그 외에는 1을 출력한다.\n",
        "\n",
        "[ NAND 게이트 진리표 ]\n",
        "![](https://user-images.githubusercontent.com/44635266/75086457-b25b0480-5577-11ea-92de-094f7310c351.png)\n",
        "\n",
        "NAND 게이트를 표현하려면 예를 들어 (w1, w2, θ) = (-0.5, -0.5, -0.7) 조합이 있다. ( 다른 조합이 무한히 있다. )\n",
        "> AND 게이트를 구현하는 매개변수의 부호를 모두 반전하기만 하면 NAND 게이트가 된다.\n",
        "\n",
        "OR 게이트는 입력 신호 중 하나 이상이 1이면 출력이 1이 되는 논리 회로이다.   \n",
        "\n",
        "[ OR 게이트 진리표 ]\n",
        "![](https://user-images.githubusercontent.com/44635266/75086457-b25b0480-5577-11ea-92de-094f7310c351.png)\n",
        "\n",
        "> **학습**이란 적절한 매개변수 값을 정하는 작업이며, 사람은 퍼셉트론의 구조 ( 모델 )를 고민하고 컴퓨터에 학습할 데이터를 주는 일을 한다."
      ],
      "metadata": {
        "id": "LbEacdgiHFQJ"
      }
    },
    {
      "cell_type": "markdown",
      "source": [
        "## 2.3 퍼셉트론 구현하기\n"
      ],
      "metadata": {
        "id": "rolqigG2WSvZ"
      }
    },
    {
      "cell_type": "markdown",
      "source": [
        "### 2.3.1 간단한 구현\n",
        "\n",
        "다음은 x1과 x2를 인수로 받는 AND 함수이다."
      ],
      "metadata": {
        "id": "7mThmRLlWbf0"
      }
    },
    {
      "cell_type": "code",
      "source": [
        "def AND(x1, x2):\n",
        "  w1, w2, theta = 0.5, 0.5, 0.7\n",
        "  tmp = x1 * w1 + x2 * w2\n",
        "\n",
        "  if tmp <= theta:\n",
        "    return 0\n",
        "  elif tmp > theta:\n",
        "    return 1"
      ],
      "metadata": {
        "id": "xLcnc__GPZMP"
      },
      "execution_count": 2,
      "outputs": []
    },
    {
      "cell_type": "markdown",
      "source": [
        "매개변수 w1, w2, theta는 함수 안에서 초기화하고, 가중치를 곱한 입력의 총합이 임계값을 넘으면 1을 반환하고 그 외에는 0을 반환한다."
      ],
      "metadata": {
        "id": "lfL8WBA1PkxG"
      }
    },
    {
      "cell_type": "code",
      "source": [
        "print(AND(0,0)) # 0을 출력\n",
        "print(AND(1,0)) # 0을 출력\n",
        "print(AND(0,1)) # 0을 출력\n",
        "print(AND(1,1)) # 1을 출력"
      ],
      "metadata": {
        "colab": {
          "base_uri": "https://localhost:8080/"
        },
        "id": "58yWkI5FPxyV",
        "outputId": "0351db87-af18-48ee-d5ad-f1638ab26175"
      },
      "execution_count": 4,
      "outputs": [
        {
          "output_type": "stream",
          "name": "stdout",
          "text": [
            "0\n",
            "0\n",
            "0\n",
            "1\n"
          ]
        }
      ]
    },
    {
      "cell_type": "markdown",
      "source": [
        "### 2.3.2 가중치와 편향 도입\n",
        "\n",
        "[수식 2-1]의 θ를 -b로 치환하면 퍼셉트론의 동작이 [수식 2-2]처럼 된다.\n",
        "\n",
        "[수식 2-2] ![](https://velog.velcdn.com/cloudflare/bbirong/e1c238c4-ffb1-4845-9c0e-e09dfdcd3650/image.png)\n",
        "\n",
        "[수식 2-1]과 [수식 2-2]는 기호 표기만 바꿨을 뿐, 그 의미는 같다. 여기에서 b를 **편향 (bias)** 이라 하며 w1과 w2는 그대로 가중치 ( weight )이다.\n",
        "\n",
        "[수식 2-2] 관점에서 해석해보자면, 퍼셉트론은 입력 신호에 가중치를 곱한 값과 편향을 합하여, 그 값이 0을 넘으면 1을 출력하고 그렇지 않으면 0을 출력한다.\n"
      ],
      "metadata": {
        "id": "FYWTJNCkP9HY"
      }
    },
    {
      "cell_type": "code",
      "source": [
        "import numpy as np\n",
        "x = np.array([0,1]) # 입력\n",
        "w = np.array([0.5, 0.5]) # 가중치\n",
        "b = -0.7 # 편향\n",
        "\n",
        "print(w * x)\n",
        "print(np.sum(w * x))\n",
        "print(np.sum(w * x) + b) # 대략 -0.2 ( 부동소수점 수에 의한 연산 오차 )"
      ],
      "metadata": {
        "colab": {
          "base_uri": "https://localhost:8080/"
        },
        "id": "bdtWfyMRSFZC",
        "outputId": "486d9e97-9e0d-4f81-c762-94fecf51c2cf"
      },
      "execution_count": 7,
      "outputs": [
        {
          "output_type": "stream",
          "name": "stdout",
          "text": [
            "[0.  0.5]\n",
            "0.5\n",
            "-0.19999999999999996\n"
          ]
        }
      ]
    },
    {
      "cell_type": "markdown",
      "source": [
        "넘파이 배열끼리의 곱셈은 두 배열의 원소 수가 같다면 각 원소끼리 곱한다.   \n",
        "그래서 이 예제의 w * x에서는 인덱스가 같은 원소끼리 곱한다. ( [0,1] * [0.5, 0.5] => [0, 0.5]).    \n",
        "또, np.sum() 메서드는 입력한 배열에 담긴 모든 원소의 총합을 계산한다.    \n",
        "이 가중치에 편향을 더하면 [수식 2-2]의 계산이 완료된다."
      ],
      "metadata": {
        "id": "KL5I4GybSxUp"
      }
    },
    {
      "cell_type": "markdown",
      "source": [
        "### 2.3.3 가중치와 편향 구현하기\n",
        "\n",
        "'가중치와 편향을 도입'한 AND 게이트는 다음과 같이 구현할 수 있다."
      ],
      "metadata": {
        "id": "c2gm7T73TXrt"
      }
    },
    {
      "cell_type": "code",
      "source": [
        "def AND(x1, x2):\n",
        "  x = np.array([x1, x2])\n",
        "  w = np.array([0.5, 0.5])\n",
        "  b = -0.7\n",
        "\n",
        "  tmp = np.sum(w * x) + b\n",
        "  if tmp <= 0:\n",
        "    return 0\n",
        "  else:\n",
        "      return 1"
      ],
      "metadata": {
        "id": "BSlP9-saTf0E"
      },
      "execution_count": null,
      "outputs": []
    },
    {
      "cell_type": "markdown",
      "source": [
        "여기에서 -θ가 편향 b로 치환되었다.   \n",
        "그리고 편향은 가중치 w1, w2와 기능이 다르다는 사실에 주의하자.\n",
        "\n",
        "w1과 w2는 각 입력 신호가 결과에 주는 영향력(중요도)를 조절하는 매개변수\n",
        "편향은 뉴런이 얼마나 쉽게 활성화(결과로1을 출력)하느냐를 조정하는 매개변수\n",
        "\n",
        "> 예를 들어 b가 -0.1이면 각 입력 신호에 가중치를 곱한 값들의 합이 0.1을 초과할 때만 뉴런이 활성화한다. 반면 b가 -20.0이면 각 입력 신호에 가중치를 곱한 값들의 합이 20.0을 넘지 않으면 뉴런은 활성화하지 않는다.   \n",
        "> 이처럼 편향의 값은 뉴런이 얼마나 쉽게 활성화되는지를 결정한다.\n",
        "\n"
      ],
      "metadata": {
        "id": "_X3mFZyIT4G5"
      }
    },
    {
      "cell_type": "code",
      "source": [
        "def NAND(x1, x2):\n",
        "  x = np.array([x1, x2])\n",
        "  w = np.array([-0.5, -0.5]) # AND와는 가중치 (w와 b)만 다르다.\n",
        "  b = 0.7\n",
        "\n",
        "  tmp = np.sum(x * w) + b\n",
        "  if tmp <= 0:\n",
        "    return 0\n",
        "  else:\n",
        "    return 1\n",
        "\n",
        "def OR(x1, x2):\n",
        "  x = np.array([x1, x2])\n",
        "  w = np.array([0.5, 0.5]) # AND와는 가중치 (w와 b)만 다르다.\n",
        "  b = -0.2\n",
        "\n",
        "  tmp = np.sum(x * w) + b\n",
        "  if tmp <= 0:\n",
        "    return 0\n",
        "  else;\n",
        "  return 1"
      ],
      "metadata": {
        "id": "1Db4tSKyU7b7"
      },
      "execution_count": null,
      "outputs": []
    },
    {
      "cell_type": "markdown",
      "source": [
        "AND, NAND, OR는 모두 같은 구조의 퍼셉트론이고, 차이는 가중치 매개변수의 값뿐이다."
      ],
      "metadata": {
        "id": "ctokqjIkVfpX"
      }
    },
    {
      "cell_type": "markdown",
      "source": [
        "## 2.4 퍼셉트론의 한계\n"
      ],
      "metadata": {
        "id": "1zNRntUaV0kP"
      }
    },
    {
      "cell_type": "markdown",
      "source": [
        "### 2.4.1 XOR 게이트\n",
        "\n",
        "XOR 게이트는 **배타적 논리합**이라는 논리 회로이다. x1과 x2 중 한 쪽이 1일 때만 1을 출력한다. ('배타적'이란 자기 외에는 거부한다는 의미)\n",
        "\n",
        "지금까지의 퍼셉트론으론 XOR 게이트를 구현할 수 없다.\n",
        "\n",
        "예를 들어 OR 게이트는 가중치 매개변수가 (b, w1, w2) = (-0.5, 1.0, 1.0)일 때 OR 게이트의 진리표를 만족한다. 이때의 퍼셉트론은 아래의 식으로 표현된다.\n",
        "\n",
        "![](https://mblogthumb-phinf.pstatic.net/MjAxNzA4MTFfNjAg/MDAxNTAyNDMzODM2ODE0.00VCTYvxAwa2SLdDwXJ2Z8jiGx-I2Vi1MvzlWGNPbGUg.afcW-o6PMaacRHXrFGn-XnObai6xidM5gW54G3sBwfog.PNG.infoefficien/image.png?type=w800)\n",
        "\n",
        "이 퍼셉트론은 직선으로 나뉜 두 영역을 만든다. 직선으로 나뉜 한쪽 영역은 1을 출력하고 다른 한쪽은 0을 출력한다. 이를 그려보면 아래 그림처럼 된다.\n",
        "\n",
        "[OR 게이트의 출력]\n",
        "![](https://mblogthumb-phinf.pstatic.net/MjAxNzA4MTFfMjA1/MDAxNTAyNDM0MDM3NzAz.Tyes6zwxOU2ZTx-kFVdTPEPrtvCeAnIqT-dG_q6Ed8Ug.SR2wKTxBdTGYsm1v-FZiJsFY5s6yYPFCGkdFfm6D3-gg.PNG.infoefficien/image.png?type=w800)\n",
        "\n",
        "OR 게이트는 (x1, x2) = (0,0)일 때 0을 출력하고 (0,1), (1,0), (1,1)일 때는 1을 출력한다.    \n",
        "그림에서는 0을 원(○), 1을 삼각형(▲)으로 표시했다.   \n",
        "OR 게이트를 만드려면 ○과 ▲을 직선으로 나눠야 한다.\n",
        "\n",
        "그러나 XOR 게이트의 경우에는 OR 게이트처럼 직선 하나로 ○과 ▲를 나누는 영역을 만들기란 불가능하다.\n",
        "\n",
        "[XOR 게이트의 출력]\n",
        "![](https://mblogthumb-phinf.pstatic.net/MjAxNzA4MTFfNDAg/MDAxNTAyNDM0MTQ3NDQ4.Z-TrE64cVjv0x_Zz1tG1px8Ou173ufnuGQcAWb4y8YUg.hEDiRDZCnmTri48_jba4bOBM5Vex9KAxJJVFGjzmMPIg.PNG.infoefficien/image.png?type=w800)"
      ],
      "metadata": {
        "id": "xcglLOf4WzPp"
      }
    },
    {
      "cell_type": "markdown",
      "source": [
        "### 2.4.2 선형과 비선형\n",
        "직선 하나로는 위 그림처럼 ○과 ▲을 나눌 수 없다.   \n",
        "하지만 '직선'이라는 제약을 없앴다면 아래 그림처럼 나눌 수 있다.  \n",
        "\n",
        "![](https://mblogthumb-phinf.pstatic.net/MjAxNzA4MTFfMjgx/MDAxNTAyNDM0MTk2NTA2.wMR6bRry0X6WsONl2of3cMmt-bnQ_wrM5Yp9mZmNdKYg.FxYdDDygW7VRgdB0hSImdasqSyyl3TYujSSrBps3m2Qg.PNG.infoefficien/image.png?type=w800)\n",
        "\n",
        "퍼셉트론은 직선 하나로 나눈 영역만 표현할 수 있다는 한계가 있다.   \n",
        "위와 같은 곡선의 영역을 **비선형** 영역, 직선의 영역을 **선형** 영역이라고 한다.\n"
      ],
      "metadata": {
        "id": "Haq_mUaviazl"
      }
    },
    {
      "cell_type": "markdown",
      "source": [
        "## 2.5 다층 퍼셉트론\n"
      ],
      "metadata": {
        "id": "7JxVeRrai8ft"
      }
    },
    {
      "cell_type": "markdown",
      "source": [
        "퍼셉트론은 '층을 쌓아' **다층 퍼셉트론(multi-layer perceptron)**을 만들 수 있다."
      ],
      "metadata": {
        "id": "SatlBtXmAXZK"
      }
    },
    {
      "cell_type": "markdown",
      "source": [
        "### 2.5.1 기존 게이트 조합하기\n",
        "여러 방법이 있지만 XOR 게이트를 AND, NAND, OR 게이트를 조합하는 방법을 사용해보자.\n",
        "\n",
        "AND, NAND, OR 게이트는 아래와 같이 표기한다.\n",
        "\n",
        "![](https://velog.velcdn.com/images%2Fchandni_ml%2Fpost%2F2fe959b2-1cc7-450e-be35-9521aecd0956%2Ffig%202-9.png)   \n",
        "\n",
        "   \n",
        "\n",
        "AND, NAND, OR 게이트를 조합하면 아래와 같이 XOR 게이트를 구현할 수 있다.\n",
        "\n",
        "![](https://mblogthumb-phinf.pstatic.net/MjAxNzA4MTFfNDIg/MDAxNTAyNDM2MDIyNDMy.iHzksqfeAbaQ6jZPYSu4fjyi78W-QS6kkJJytyxYc2sg.JwMUArcbfBOjCfZzePodq8I1vtahrhDbd9oapXat_1Ag.PNG.infoefficien/image.png?type=w800)\n",
        "\n",
        "A와 B는 NAND와 OR 게이트의 입력이 되고, NAND와 OR의 출력이 AND 게이트의 입력으로 이어진다.\n",
        "\n",
        "NAND의 출력을 s1, OR의 출력을 s2로 해서 진리표를 만들면 아래 그림과 같다.\n",
        "![](https://mblogthumb-phinf.pstatic.net/MjAxNzA4MTFfNjUg/MDAxNTAyNDM2MTUwMTIx.TRWO9I9-bNHichyQmCQS5eWx9di8TZQfveOOFSYRv80g.eSFtyY2V5upS-Di6q5SuxzdyMUAEDQX-g5bLDf69YeYg.PNG.infoefficien/image.png?type=w800)\n"
      ],
      "metadata": {
        "id": "Z8Lxn2UDAqhH"
      }
    },
    {
      "cell_type": "markdown",
      "source": [
        "### 2.5.2 XOR 게이트 구현하기"
      ],
      "metadata": {
        "id": "JBJyZzfZC97I"
      }
    },
    {
      "cell_type": "code",
      "source": [
        "def XOR(x1, x2):\n",
        "  s1 = NAND(x1, x2)\n",
        "  s2 = OR(x1, x2)\n",
        "  y = AND(s1, s2)\n",
        "\n",
        "  return y\n",
        "\n",
        "print(XOR(0,0)) # 0을 출력\n",
        "print(XOR(0,1)) # 1을 출력\n",
        "print(XOR(1, 0)) # 1을 출력\n",
        "print(XOR(1,1)) # 0을 출력"
      ],
      "metadata": {
        "id": "h7uMv52rDAkS"
      },
      "execution_count": null,
      "outputs": []
    },
    {
      "cell_type": "markdown",
      "source": [
        "구현한 XOR를 뉴런을 이용한 퍼셉트론으로 표현하면 아래와 같다\n",
        "\n",
        "![](https://mblogthumb-phinf.pstatic.net/MjAxNzA4MTFfMjY1/MDAxNTAyNDM3MDE3NTY5.su3B3LKZlVmbv0-75UpsHE7ue_i_NPxsAeL1bV0aq8Qg.LgblkwKIF7JFhGNnQOgONZ9Co04QUTbd4srgJTMICYog.PNG.infoefficien/image.png?type=w800)\n",
        "\n",
        "XOR는 위와 같은 **다층 구조의 네트워크**이다.\n",
        "\n",
        "그런데 위의 퍼셉트론은 지금까지 본 AND, OR 퍼셉트론과 형태가 다르다.   \n",
        "실제로 AND, OR가 단층 퍼셉트론인 데 반해, XOR는 2층 퍼셉트론이다.   \n",
        "   \n",
        "\n",
        "이처럼 층이 여러 개인 퍼셉트론을 다층 퍼셉트론이라 한다."
      ],
      "metadata": {
        "id": "y61FzkDKDUzs"
      }
    }
  ]
}